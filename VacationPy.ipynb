{
 "cells": [
  {
   "cell_type": "markdown",
   "metadata": {
    "colab_type": "text",
    "id": "monxFzsceTWr"
   },
   "source": [
    "# VacationPy\n",
    "----\n",
    "\n",
    "#### Note\n",
    "* Instructions have been included for each segment. You do not have to follow them exactly, but they are included to help you think through the steps."
   ]
  },
  {
   "cell_type": "code",
   "execution_count": 1,
   "metadata": {
    "colab": {},
    "colab_type": "code",
    "id": "ptu0vy2ieTWs"
   },
   "outputs": [],
   "source": [
    "# Dependencies and Setup\n",
    "import matplotlib.pyplot as plt\n",
    "import pandas as pd\n",
    "import numpy as np\n",
    "import requests\n",
    "import gmaps\n",
    "import os\n",
    "\n",
    "# Import API key\n",
    "try:\n",
    "    from api_keys import g_key\n",
    "except:\n",
    "    g_key = \"None\""
   ]
  },
  {
   "cell_type": "markdown",
   "metadata": {
    "colab_type": "text",
    "id": "9kM-eB-jeTWy"
   },
   "source": [
    "### Store Part I results into DataFrame\n",
    "* Load the csv exported in Part I to a DataFrame"
   ]
  },
  {
   "cell_type": "code",
   "execution_count": 45,
   "metadata": {
    "colab": {},
    "colab_type": "code",
    "id": "lQYKcSSTeTWz"
   },
   "outputs": [],
   "source": [
    "df = pd.read_csv('cities_csv')\n"
   ]
  },
  {
   "cell_type": "markdown",
   "metadata": {
    "colab_type": "text",
    "id": "5uDcglrGeTW5"
   },
   "source": [
    "### Humidity Heatmap\n",
    "* Configure gmaps.\n",
    "* Use the Lat and Lng as locations and Humidity as the weight.\n",
    "* Add Heatmap layer to map."
   ]
  },
  {
   "cell_type": "code",
   "execution_count": 4,
   "metadata": {
    "colab": {
     "base_uri": "https://localhost:8080/",
     "height": 204
    },
    "colab_type": "code",
    "id": "sSPisWKZeTW_",
    "outputId": "f28f4520-7fe4-4fab-8582-60b02c9715d4"
   },
   "outputs": [
    {
     "data": {
      "text/html": [
       "<div>\n",
       "<style scoped>\n",
       "    .dataframe tbody tr th:only-of-type {\n",
       "        vertical-align: middle;\n",
       "    }\n",
       "\n",
       "    .dataframe tbody tr th {\n",
       "        vertical-align: top;\n",
       "    }\n",
       "\n",
       "    .dataframe thead th {\n",
       "        text-align: right;\n",
       "    }\n",
       "</style>\n",
       "<table border=\"1\" class=\"dataframe\">\n",
       "  <thead>\n",
       "    <tr style=\"text-align: right;\">\n",
       "      <th></th>\n",
       "      <th>Unnamed: 0</th>\n",
       "      <th>City</th>\n",
       "      <th>Lat</th>\n",
       "      <th>Lng</th>\n",
       "      <th>Max Temp</th>\n",
       "      <th>Humidity</th>\n",
       "      <th>Cloudiness</th>\n",
       "      <th>Wind Speed</th>\n",
       "      <th>Country</th>\n",
       "    </tr>\n",
       "  </thead>\n",
       "  <tbody>\n",
       "    <tr>\n",
       "      <th>0</th>\n",
       "      <td>0</td>\n",
       "      <td>yellowknife</td>\n",
       "      <td>-103.022169</td>\n",
       "      <td>73.339608</td>\n",
       "      <td>285.11</td>\n",
       "      <td>66</td>\n",
       "      <td>20</td>\n",
       "      <td>6.20</td>\n",
       "      <td>ca</td>\n",
       "    </tr>\n",
       "    <tr>\n",
       "      <th>1</th>\n",
       "      <td>1</td>\n",
       "      <td>nchelenge</td>\n",
       "      <td>28.353179</td>\n",
       "      <td>-9.650344</td>\n",
       "      <td>297.00</td>\n",
       "      <td>45</td>\n",
       "      <td>1</td>\n",
       "      <td>1.77</td>\n",
       "      <td>zm</td>\n",
       "    </tr>\n",
       "    <tr>\n",
       "      <th>2</th>\n",
       "      <td>2</td>\n",
       "      <td>talnakh</td>\n",
       "      <td>92.427932</td>\n",
       "      <td>76.474652</td>\n",
       "      <td>283.15</td>\n",
       "      <td>46</td>\n",
       "      <td>40</td>\n",
       "      <td>5.00</td>\n",
       "      <td>ru</td>\n",
       "    </tr>\n",
       "    <tr>\n",
       "      <th>3</th>\n",
       "      <td>3</td>\n",
       "      <td>hermanus</td>\n",
       "      <td>-6.738438</td>\n",
       "      <td>-78.812391</td>\n",
       "      <td>292.59</td>\n",
       "      <td>53</td>\n",
       "      <td>0</td>\n",
       "      <td>1.52</td>\n",
       "      <td>za</td>\n",
       "    </tr>\n",
       "    <tr>\n",
       "      <th>4</th>\n",
       "      <td>4</td>\n",
       "      <td>kirakira</td>\n",
       "      <td>162.787843</td>\n",
       "      <td>-11.867814</td>\n",
       "      <td>299.56</td>\n",
       "      <td>84</td>\n",
       "      <td>16</td>\n",
       "      <td>3.79</td>\n",
       "      <td>sb</td>\n",
       "    </tr>\n",
       "  </tbody>\n",
       "</table>\n",
       "</div>"
      ],
      "text/plain": [
       "   Unnamed: 0         City         Lat        Lng  Max Temp  Humidity  \\\n",
       "0           0  yellowknife -103.022169  73.339608    285.11        66   \n",
       "1           1    nchelenge   28.353179  -9.650344    297.00        45   \n",
       "2           2      talnakh   92.427932  76.474652    283.15        46   \n",
       "3           3     hermanus   -6.738438 -78.812391    292.59        53   \n",
       "4           4     kirakira  162.787843 -11.867814    299.56        84   \n",
       "\n",
       "   Cloudiness  Wind Speed Country  \n",
       "0          20        6.20      ca  \n",
       "1           1        1.77      zm  \n",
       "2          40        5.00      ru  \n",
       "3           0        1.52      za  \n",
       "4          16        3.79      sb  "
      ]
     },
     "execution_count": 4,
     "metadata": {},
     "output_type": "execute_result"
    }
   ],
   "source": [
    "df.head()"
   ]
  },
  {
   "cell_type": "code",
   "execution_count": 5,
   "metadata": {
    "colab": {},
    "colab_type": "code",
    "id": "39lj0t1aeTW6"
   },
   "outputs": [],
   "source": [
    "\n",
    "fig = gmaps.figure()\n",
    "\n",
    "heatmap_layer = gmaps.heatmap_layer(\n",
    "    df[['Lng', 'Lat']], weights=df['Humidity']\n",
    ")\n",
    "\n",
    "fig.add_layer(heatmap_layer)\n",
    "\n"
   ]
  },
  {
   "cell_type": "code",
   "execution_count": 7,
   "metadata": {
    "colab": {},
    "colab_type": "code",
    "id": "HXBWZO0OilkI"
   },
   "outputs": [],
   "source": [
    "from ipywidgets.embed import embed_minimal_html\n",
    "embed_minimal_html('export.html', views=[fig])"
   ]
  },
  {
   "cell_type": "markdown",
   "metadata": {
    "colab_type": "text",
    "id": "H2qN8-BmeTXI"
   },
   "source": [
    "### Create new DataFrame fitting weather criteria\n",
    "* Narrow down the cities to fit weather conditions.\n",
    "* Drop any rows will null values."
   ]
  },
  {
   "cell_type": "code",
   "execution_count": 46,
   "metadata": {
    "colab": {},
    "colab_type": "code",
    "id": "3rzY1ddteTXK"
   },
   "outputs": [],
   "source": [
    "df = df.dropna()\n",
    "df = df[df['Max Temp'] >= 280]\n",
    "\n",
    "row[hispanic] = master_df[master_df['state'] = row['state'] & master_df['city'] = row['city']].hispanic\n",
    "\n",
    "df = df[df['Max Temp'] <= 300]\n",
    "df = df[df['Wind Speed'] <= 10]\n",
    "df = df[df['Cloudiness'] == 0]"
   ]
  },
  {
   "cell_type": "markdown",
   "metadata": {
    "colab_type": "text",
    "id": "P-JnH2TEeTXP"
   },
   "source": [
    "### Hotel Map\n",
    "* Store into variable named `hotel_df`.\n",
    "* Add a \"Hotel Name\" column to the DataFrame.\n",
    "* Set parameters to search for hotels with 5000 meters.\n",
    "* Hit the Google Places API for each city's coordinates.\n",
    "* Store the first Hotel result into the DataFrame.\n",
    "* Plot markers on top of the heatmap."
   ]
  },
  {
   "cell_type": "code",
   "execution_count": 47,
   "metadata": {
    "colab": {},
    "colab_type": "code",
    "id": "oR-S3FN1eTXQ"
   },
   "outputs": [],
   "source": [
    "hotel_df = df\n",
    "hotel_df['Hotel Name'] = None"
   ]
  },
  {
   "cell_type": "code",
   "execution_count": null,
   "metadata": {},
   "outputs": [],
   "source": [
    "x = requests.get(f'https://maps.googleapis.com/maps/api/place/nearbysearch/json?location=-33.8670522,151.1957362&radius=1500&type=hotel&key={g_key}').json()['results'][0][\"name\"]"
   ]
  },
  {
   "cell_type": "code",
   "execution_count": 50,
   "metadata": {},
   "outputs": [
    {
     "name": "stdout",
     "output_type": "stream",
     "text": [
      "{'html_attributions': [], 'results': [], 'status': 'ZERO_RESULTS'}\n",
      "{'html_attributions': [], 'results': [], 'status': 'ZERO_RESULTS'}\n",
      "{'html_attributions': [], 'results': [], 'status': 'ZERO_RESULTS'}\n",
      "{'html_attributions': [], 'results': [], 'status': 'ZERO_RESULTS'}\n",
      "{'html_attributions': [], 'results': [], 'status': 'ZERO_RESULTS'}\n",
      "{'html_attributions': [], 'results': [], 'status': 'ZERO_RESULTS'}\n",
      "{'html_attributions': [], 'results': [], 'status': 'ZERO_RESULTS'}\n",
      "{'html_attributions': [], 'results': [], 'status': 'ZERO_RESULTS'}\n",
      "{'html_attributions': [], 'results': [], 'status': 'ZERO_RESULTS'}\n",
      "{'html_attributions': [], 'results': [{'geometry': {'location': {'lat': 53.4033459, 'lng': 54.82297639999999}, 'viewport': {'northeast': {'lat': 53.40627910000001, 'lng': 54.8338578}, 'southwest': {'lat': 53.398232, 'lng': 54.8177223}}}, 'icon': 'https://maps.gstatic.com/mapfiles/place_api/icons/geocode-71.png', 'id': '8b5122f2979ea2331bb593eb7a0247e962023d8a', 'name': 'Petropavlovka', 'place_id': 'ChIJS8VOsSboYkERP3TgUveQhIE', 'reference': 'ChIJS8VOsSboYkERP3TgUveQhIE', 'scope': 'GOOGLE', 'types': ['locality', 'political'], 'vicinity': 'Petropavlovka'}], 'status': 'OK'}\n",
      "{'html_attributions': [], 'results': [], 'status': 'ZERO_RESULTS'}\n",
      "{'html_attributions': [], 'results': [], 'status': 'ZERO_RESULTS'}\n",
      "{'html_attributions': [], 'results': [], 'status': 'ZERO_RESULTS'}\n",
      "{'html_attributions': [], 'results': [], 'status': 'ZERO_RESULTS'}\n",
      "{'html_attributions': [], 'results': [], 'status': 'ZERO_RESULTS'}\n",
      "{'html_attributions': [], 'results': [], 'status': 'ZERO_RESULTS'}\n",
      "{'html_attributions': [], 'results': [{'geometry': {'location': {'lat': -9.575771, 'lng': -77.5289797}, 'viewport': {'northeast': {'lat': -9.5636753, 'lng': -77.5187359}, 'southwest': {'lat': -9.585519, 'lng': -77.5405009}}}, 'icon': 'https://maps.gstatic.com/mapfiles/place_api/icons/geocode-71.png', 'id': '2e01be4fb9535ac05c4397cf8af036ae6d5806e6', 'name': 'Case Toclla', 'place_id': 'ChIJj4kgnZoMqZERAMqLT0izVDs', 'reference': 'ChIJj4kgnZoMqZERAMqLT0izVDs', 'scope': 'GOOGLE', 'types': ['sublocality_level_1', 'sublocality', 'political'], 'vicinity': 'Case Toclla'}, {'business_status': 'OPERATIONAL', 'geometry': {'location': {'lat': -9.5779873, 'lng': -77.5311947}, 'viewport': {'northeast': {'lat': -9.5766391197085, 'lng': -77.52982991970849}, 'southwest': {'lat': -9.579337080291502, 'lng': -77.5325278802915}}}, 'icon': 'https://maps.gstatic.com/mapfiles/place_api/icons/shopping-71.png', 'id': '452fe816938afd71f61bdac7a5040f6ea95d5adb', 'name': 'Car Wash LA CURVA (estación de servicio DON QUESO)', 'photos': [{'height': 4160, 'html_attributions': ['<a href=\"https://maps.google.com/maps/contrib/107102387966715969364\">Teodomiro Marco Tahua Moreno</a>'], 'photo_reference': 'CmRaAAAAtS1a3qeZ8dTrr79VjHmsmhND5zP5yWHmVpfAgpoQF3FfTTouF_SBFV5WuuSW_pytOAUAaDRSqnKvVf_H_2XPeqc6Jo3zDDJo1oEqc3ctr4fIkZRoDUrYGqsH7XeKFvkcEhBabPH311BZz-24L6ZVL1V8GhTBSPzvKCGCaN3QXP2PmfFyaGJF-w', 'width': 3120}], 'place_id': 'ChIJM0jHupsMqZERX2eexUwAXc8', 'plus_code': {'compound_code': 'CFC9+RG Case Toclla, Peru', 'global_code': '6724CFC9+RG'}, 'rating': 2.3, 'reference': 'ChIJM0jHupsMqZERX2eexUwAXc8', 'scope': 'GOOGLE', 'types': ['shopping_mall', 'point_of_interest', 'establishment'], 'user_ratings_total': 3, 'vicinity': 'PE-3N 105'}, {'business_status': 'OPERATIONAL', 'geometry': {'location': {'lat': -9.5719284, 'lng': -77.5322436}, 'viewport': {'northeast': {'lat': -9.570585469708497, 'lng': -77.53090221970848}, 'southwest': {'lat': -9.573283430291502, 'lng': -77.5336001802915}}}, 'icon': 'https://maps.gstatic.com/mapfiles/place_api/icons/civic_building-71.png', 'id': '651c8710a948ec3bb18fcaa269d72ed4fc2c5700', 'name': 'C.P TOCLLA Condorpampa', 'photos': [{'height': 3456, 'html_attributions': ['<a href=\"https://maps.google.com/maps/contrib/113344159687396761380\">ESTEVEN NEIL GUERRERO VARGAS</a>'], 'photo_reference': 'CmRaAAAAlTS2ji2qfzUJ3CNBrHLmq7tW-7WFSRRWkmsB4DiIPkghk2lqXemxwaf1atTbBB__EzXek5QST48dXn2newu2Q87J4t_z-BuBdbogY5j7IjHkZYQaRwW71EUrNTE3PI1wEhBxCOOatKIuRBWaU4SlvKzFGhTI46Iz7XjEE1yh4LEOgkdCxhwgdA', 'width': 5184}], 'place_id': 'ChIJiSLQ2JAMqZERtF-gEEkCLWo', 'plus_code': {'compound_code': 'CFH9+64 Case Toclla, Peru', 'global_code': '6724CFH9+64'}, 'reference': 'ChIJiSLQ2JAMqZERtF-gEEkCLWo', 'scope': 'GOOGLE', 'types': ['point_of_interest', 'establishment'], 'vicinity': 'PE-3N 830'}, {'business_status': 'OPERATIONAL', 'geometry': {'location': {'lat': -9.587279200000001, 'lng': -77.5215805}, 'viewport': {'northeast': {'lat': -9.5858315197085, 'lng': -77.5201478697085}, 'southwest': {'lat': -9.588529480291504, 'lng': -77.5228458302915}}}, 'icon': 'https://maps.gstatic.com/mapfiles/place_api/icons/gas_station-71.png', 'id': '2c8f5635dadf6d849a72cb72cefb5ee10455515d', 'name': 'EESS San Nicolás', 'photos': [{'height': 2340, 'html_attributions': ['<a href=\"https://maps.google.com/maps/contrib/115867532837737214040\">Gustavo Calle</a>'], 'photo_reference': 'CmRaAAAAX2_aOTuWtUHyLY7dBM8b6Wy-3w7ma8GfT0_ZBg3XLEafFGjZFyfvL7NxGii-JgW9R5-u_B71k8llPNapPBS6xnhFNnk-AccFdGPJLeUIgynCIY0JbowGCMBjzWeKxHp_EhAD3fGRnVWj6p9HfzEUp3NDGhSQ0M6Kx_JPE1z03Y0LFWM4Bc72wA', 'width': 4160}], 'place_id': 'ChIJT-8IeX4LqZERiBtwBvO6XWg', 'plus_code': {'compound_code': 'CF7H+39 Huaraz, Peru', 'global_code': '6724CF7H+39'}, 'rating': 4.2, 'reference': 'ChIJT-8IeX4LqZERiBtwBvO6XWg', 'scope': 'GOOGLE', 'types': ['gas_station', 'point_of_interest', 'establishment'], 'user_ratings_total': 10, 'vicinity': 'CARRETERA PATIVILCA KM. 194+200 SECTOR CHIHUIPAMPA HUARAZ, PE-3N'}], 'status': 'OK'}\n",
      "{'html_attributions': [], 'results': [], 'status': 'ZERO_RESULTS'}\n",
      "{'html_attributions': [], 'results': [], 'status': 'ZERO_RESULTS'}\n",
      "{'html_attributions': [], 'results': [], 'status': 'ZERO_RESULTS'}\n",
      "{'html_attributions': [], 'results': [], 'status': 'ZERO_RESULTS'}\n",
      "{'html_attributions': [], 'results': [], 'status': 'ZERO_RESULTS'}\n",
      "{'html_attributions': [], 'results': [], 'status': 'ZERO_RESULTS'}\n",
      "{'html_attributions': [], 'results': [], 'status': 'ZERO_RESULTS'}\n",
      "{'html_attributions': [], 'results': [{'geometry': {'location': {'lat': 54.081539, 'lng': 53.67777}, 'viewport': {'northeast': {'lat': 54.0886166, 'lng': 53.6973789}, 'southwest': {'lat': 54.066301, 'lng': 53.64935209999999}}}, 'icon': 'https://maps.gstatic.com/mapfiles/place_api/icons/geocode-71.png', 'id': 'b2e2788dd8a738457fe180c183f1ae8c1c219795', 'name': 'Yermekeyevo', 'photos': [{'height': 898, 'html_attributions': ['<a href=\"https://maps.google.com/maps/contrib/110944530921647099528\">Мото- тема</a>'], 'photo_reference': 'CmRaAAAAFZw8YbozVmDhouEq8_nDmoDcwuLbVS8jiK5Y_F679k4ZQXVEN0ifdoBo_shK2w0cDHSIp57DQS5GBljJfFeNrm09gXCc5BaZ-wYB2gEGAZIH2uVwHE-K9-BgMZrCQvnTEhBAGdwhX5McWHEvGJtrdgtnGhTAuVIR61ZvCYKBy9CBJaTfkEvWyQ', 'width': 1600}], 'place_id': 'ChIJm-lnHzsvYkER96elostDkOc', 'reference': 'ChIJm-lnHzsvYkER96elostDkOc', 'scope': 'GOOGLE', 'types': ['locality', 'political'], 'vicinity': 'Yermekeyevo'}], 'status': 'OK'}\n",
      "{'html_attributions': [], 'results': [{'geometry': {'location': {'lat': -21.3285221, 'lng': 142.604985}, 'viewport': {'northeast': {'lat': -20.9816018, 'lng': 143.2608751}, 'southwest': {'lat': -21.667494, 'lng': 142.0376058}}}, 'icon': 'https://maps.gstatic.com/mapfiles/place_api/icons/geocode-71.png', 'id': '6303e63bd81f2f4cb08aa8d98bb569a74a2950ca', 'name': 'Albion', 'place_id': 'ChIJJ_S1Br91MGoRIJkgf_HuAAQ', 'reference': 'ChIJJ_S1Br91MGoRIJkgf_HuAAQ', 'scope': 'GOOGLE', 'types': ['locality', 'political'], 'vicinity': 'Albion'}], 'status': 'OK'}\n",
      "{'html_attributions': [], 'results': [{'geometry': {'location': {'lat': -31.55327979999999, 'lng': 26.5550876}, 'viewport': {'northeast': {'lat': -31.5157548, 'lng': 26.588192}, 'southwest': {'lat': -31.5698799, 'lng': 26.5151269}}}, 'icon': 'https://maps.gstatic.com/mapfiles/place_api/icons/geocode-71.png', 'id': 'fb80b6ce0f8fddf4ba5010ca71e4a81a4bedda38', 'name': 'Sterkstroom', 'photos': [{'height': 2976, 'html_attributions': ['<a href=\"https://maps.google.com/maps/contrib/113081362841608387604\">Zaritho</a>'], 'photo_reference': 'CmRaAAAA_ByQl8oizppJb3ov2BnJF9IdAcAn5-83xKrZaniszBplYUZViO1r6ojilg1FDKvQ8-ukpnaGxAGGHl8QhLLPk3-3_AwFsLRcuGsZ57k3X3gf_b61SCpGyNoCdRcysUT-EhA0Mnb3HTwmd16SWeHwhokHGhR2tKI5GoWN8q4bMwH2VlAg20ejCQ', 'width': 3968}], 'place_id': 'ChIJ38Eee0rWiR4RGy34pED0hC8', 'reference': 'ChIJ38Eee0rWiR4RGy34pED0hC8', 'scope': 'GOOGLE', 'types': ['locality', 'political'], 'vicinity': 'Sterkstroom'}, {'business_status': 'OPERATIONAL', 'geometry': {'location': {'lat': -31.52806, 'lng': 26.58972}, 'viewport': {'northeast': {'lat': -31.5268003197085, 'lng': 26.5910250302915}, 'southwest': {'lat': -31.5294982802915, 'lng': 26.5883270697085}}}, 'icon': 'https://maps.gstatic.com/mapfiles/place_api/icons/train-71.png', 'id': '4ab96cb8df6abe4e3f98a3f29f63dd144ae44aed', 'name': 'Kleinskuur', 'place_id': 'ChIJbbVNw23XiR4RJhqkeM_FLpw', 'plus_code': {'compound_code': 'FHCQ+QV Sterkstroom, South Africa', 'global_code': '4GW8FHCQ+QV'}, 'reference': 'ChIJbbVNw23XiR4RJhqkeM_FLpw', 'scope': 'GOOGLE', 'types': ['train_station', 'transit_station', 'point_of_interest', 'establishment'], 'vicinity': 'R344'}, {'geometry': {'location': {'lat': -31.5559083, 'lng': 26.5432908}, 'viewport': {'northeast': {'lat': -31.5157548, 'lng': 26.588192}, 'southwest': {'lat': -31.5698799, 'lng': 26.5151269}}}, 'icon': 'https://maps.gstatic.com/mapfiles/place_api/icons/geocode-71.png', 'id': '8ccdb589085653dc22dc29754290bdce52862c09', 'name': 'Sterkstroom', 'place_id': 'ChIJ40OBzlnWiR4RjzTXLW5Xljs', 'reference': 'ChIJ40OBzlnWiR4RjzTXLW5Xljs', 'scope': 'GOOGLE', 'types': ['sublocality_level_1', 'sublocality', 'political'], 'vicinity': 'Sterkstroom'}], 'status': 'OK'}\n",
      "{'html_attributions': [], 'results': [], 'status': 'ZERO_RESULTS'}\n",
      "{'html_attributions': [], 'results': [{'geometry': {'location': {'lat': 48.6350467, 'lng': 90.942039}, 'viewport': {'northeast': {'lat': 48.83607989999999, 'lng': 91.3448811}, 'southwest': {'lat': 48.5005688, 'lng': 90.6219292}}}, 'icon': 'https://maps.gstatic.com/mapfiles/place_api/icons/generic_recreational-71.png', 'id': 'a5e683a8137d87a26ac2fb1f5aac695731f0b45a', 'name': 'Tsambagarav Uul', 'photos': [{'height': 1080, 'html_attributions': ['<a href=\"https://maps.google.com/maps/contrib/115114437822277609716\">Justin Seto</a>'], 'photo_reference': 'CmRZAAAAFlP43D6I-1515Nmn5qt_0PqIuGHdVp6VwjwWaED88Q84OS3G2HWkp_K0ik3x_9z21NrrhiZRjYbVG3G664tRTnmPGsRyPsRXNo_YSgMxiKjjAKVxaKZBLf_Sn_5k8kpoEhDdUBBDYP_8pw10xV37JnA2GhQBA8skIGai1ch72KHk601REbkGlg', 'width': 1920}], 'place_id': 'ChIJzZON81Z0TF0RytTlpUavHk8', 'reference': 'ChIJzZON81Z0TF0RytTlpUavHk8', 'scope': 'GOOGLE', 'types': ['premise', 'park', 'point_of_interest', 'establishment']}], 'status': 'OK'}\n",
      "{'html_attributions': [], 'results': [{'geometry': {'location': {'lat': 37.43409200000001, 'lng': 116.357464}, 'viewport': {'northeast': {'lat': 37.5291942, 'lng': 116.4523315}, 'southwest': {'lat': 37.3563942, 'lng': 116.1955261}}}, 'icon': 'https://maps.gstatic.com/mapfiles/place_api/icons/geocode-71.png', 'id': '0f37324065725ede25aefa563b9a45787e6809b9', 'name': 'Dezhou', 'photos': [{'height': 1200, 'html_attributions': ['<a href=\"https://maps.google.com/maps/contrib/117551501730855688241\">What do I know?</a>'], 'photo_reference': 'CmRaAAAAGMMMDQSFauIdguuYEPOmvuhMHe2wJKuGjG-9bXy9YEr-CfbnlCBonNZOrMQM91nTfxZM6I0vSpCs0iM6RhOMm3r8TV3WTgrmS9MJyidoGWlWj56d4zVcSjK_zn2pYxSXEhCqfFJqQR18F13c7W-zLVdEGhSW3-8KlRQeLmsBzdHwChIl19RMMA', 'width': 1600}], 'place_id': 'ChIJQ7pIKJ9R6DUR6iDZsR8pB_E', 'reference': 'ChIJQ7pIKJ9R6DUR6iDZsR8pB_E', 'scope': 'GOOGLE', 'types': ['locality', 'political'], 'vicinity': 'Dezhou'}, {'geometry': {'location': {'lat': 36.783414, 'lng': 116.76281}, 'viewport': {'northeast': {'lat': 37.0291715, 'lng': 116.9637871}, 'southwest': {'lat': 36.4089159, 'lng': 116.399273}}}, 'icon': 'https://maps.gstatic.com/mapfiles/place_api/icons/geocode-71.png', 'id': '601b02a0a27aa83e87d1baf66d09e81849c7aa50', 'name': 'Qihe County', 'photos': [{'height': 1920, 'html_attributions': ['<a href=\"https://maps.google.com/maps/contrib/106155898173481422546\">hua song</a>'], 'photo_reference': 'CmRaAAAACtoQexZLXEj5o5qt_SiLJpfAEL-bAjCZSYr4qn-pwOZr0UI8KwZawzIH04RUGWsqi_fj1fwpFkac1Q5sTpN8y-Bu4TDrYJ0RN1P_egPYNJEaG34rvaT4S_u_3wNkxo5bEhB1W6zU-TcN8N-oVuolRtRaGhT2h1s1fadkGLNhoMrKpgX6UEWXMg', 'width': 1080}], 'place_id': 'ChIJkZqkoZhxwjURxXrXjGy9u3c', 'reference': 'ChIJkZqkoZhxwjURxXrXjGy9u3c', 'scope': 'GOOGLE', 'types': ['sublocality_level_1', 'sublocality', 'political'], 'vicinity': 'Qihe County'}], 'status': 'OK'}\n",
      "{'html_attributions': [], 'results': [], 'status': 'ZERO_RESULTS'}\n",
      "{'html_attributions': [], 'results': [], 'status': 'ZERO_RESULTS'}\n",
      "{'html_attributions': [], 'results': [], 'status': 'ZERO_RESULTS'}\n",
      "{'html_attributions': [], 'results': [], 'status': 'ZERO_RESULTS'}\n",
      "{'html_attributions': [], 'results': [], 'status': 'ZERO_RESULTS'}\n",
      "{'html_attributions': [], 'results': [{'geometry': {'location': {'lat': -23.6811662, 'lng': 134.2177962}, 'viewport': {'northeast': {'lat': -23.309417, 'lng': 136.0012449}, 'southwest': {'lat': -24.786062, 'lng': 133.883276}}}, 'icon': 'https://maps.gstatic.com/mapfiles/place_api/icons/geocode-71.png', 'id': 'efc8ad55617c877b06ed7bd6129c1eb53ec48b49', 'name': 'Hale', 'photos': [{'height': 1960, 'html_attributions': ['<a href=\"https://maps.google.com/maps/contrib/113094469215367637889\">Lyn Lambert</a>'], 'photo_reference': 'CmRaAAAAZhvHf7CDzzNRvCcZglw7ieSSXhV__fakMt9IwMfJTvjlYAjjOeson34xkYoXrVPpWBS3n7MEPASZ6J4hu5xAFCFxZWN7ObUumY2E2WM2vU03TH4r8kIrFNGK66DiXSC3EhCO2b1JHutSF15x1tFOF_QxGhT6FIThJ3fFOqNd8y8dcjY5wMAiUQ', 'width': 4032}], 'place_id': 'ChIJl-FP2qPPLCsRoEQlKqgXAgQ', 'reference': 'ChIJl-FP2qPPLCsRoEQlKqgXAgQ', 'scope': 'GOOGLE', 'types': ['locality', 'political'], 'vicinity': 'Hale'}, {'geometry': {'location': {'lat': -23.7230288, 'lng': 133.8898593}, 'viewport': {'northeast': {'lat': -23.7082399, 'lng': 133.940458}, 'southwest': {'lat': -23.7378829, 'lng': 133.8658415}}}, 'icon': 'https://maps.gstatic.com/mapfiles/place_api/icons/geocode-71.png', 'id': '384c796a0b1d63a64def8d452b4f3f37efc5f539', 'name': 'Mount Johns', 'photos': [{'height': 2592, 'html_attributions': ['<a href=\"https://maps.google.com/maps/contrib/117336726993961968944\">Joshua Kitchens</a>'], 'photo_reference': 'CmRaAAAAbAV4QgBQxmCOo7lyuiYYr1rELTgfTNhrSf_3hTUghesgj__Nx6DH5HLVY3McRBbvRDWdBEQtCfzz4yL6a67wlmz1pt9Lw_rBvreLXCzO2s1dgbVo1savlwIPfzNcJ8t7EhCNvm4hfkGs5cEGoe2niwOIGhTRKQ6EW94_-iTr6pzjqXspf1KecA', 'width': 3872}], 'place_id': 'ChIJ3743gu8bMisRwE4lKqgXAgU', 'reference': 'ChIJ3743gu8bMisRwE4lKqgXAgU', 'scope': 'GOOGLE', 'types': ['locality', 'political'], 'vicinity': 'Mount Johns'}], 'status': 'OK'}\n",
      "{'html_attributions': [], 'results': [{'geometry': {'location': {'lat': -24.9455019, 'lng': 121.5914304}, 'viewport': {'northeast': {'lat': -23.4402028, 'lng': 124.6680381}, 'southwest': {'lat': -26.7472172, 'lng': 120.0428587}}}, 'icon': 'https://maps.gstatic.com/mapfiles/place_api/icons/geocode-71.png', 'id': '300e2bb06940a6f06161610f3eb05ccf341e804d', 'name': 'Little Sandy Desert', 'photos': [{'height': 1080, 'html_attributions': ['<a href=\"https://maps.google.com/maps/contrib/104201185426768259914\">stefano stefano</a>'], 'photo_reference': 'CmRaAAAAqbREwffDGZib4oBr3jhj6K0eb1xdxE40Sk84ig91w4xamh9GH9tu9IMDyNsg5mVbMHX9tZsmZLhCEqj7Dn6DBKs57yOoFvPp_PxetUcFD9XwlIFFscTrkeFrA7N4qxg6EhC2IvXLMbqnT_XhTBaJzrfiGhTFkuHsx1-NXk8JBofJnX29Z1pbYQ', 'width': 1920}], 'place_id': 'ChIJLTlY749MvSsRsNJ5JDj2AAQ', 'reference': 'ChIJLTlY749MvSsRsNJ5JDj2AAQ', 'scope': 'GOOGLE', 'types': ['locality', 'political'], 'vicinity': 'Little Sandy Desert'}], 'status': 'OK'}\n",
      "{'html_attributions': [], 'results': [], 'status': 'ZERO_RESULTS'}\n",
      "{'html_attributions': [], 'results': [{'geometry': {'location': {'lat': 59.9670424, 'lng': 23.2294508}, 'viewport': {'northeast': {'lat': 59.9726265, 'lng': 23.2454582}, 'southwest': {'lat': 59.9614574, 'lng': 23.2134434}}}, 'icon': 'https://maps.gstatic.com/mapfiles/place_api/icons/geocode-71.png', 'id': '247a43eee29bf73254dbfb9925a2e1e1b2262452', 'name': 'Hangist', 'place_id': 'ChIJLd3Lxa4BjUYRUbptaDdRopQ', 'reference': 'ChIJLd3Lxa4BjUYRUbptaDdRopQ', 'scope': 'GOOGLE', 'types': ['locality', 'political'], 'vicinity': 'Hangist'}, {'business_status': 'OPERATIONAL', 'geometry': {'location': {'lat': 59.96963599999999, 'lng': 23.2280544}, 'viewport': {'northeast': {'lat': 59.9710163302915, 'lng': 23.2293254302915}, 'southwest': {'lat': 59.96831836970849, 'lng': 23.2266274697085}}}, 'icon': 'https://maps.gstatic.com/mapfiles/place_api/icons/generic_business-71.png', 'id': '89bbe1515e94564f420ddf3951a4550fbecd42f1', 'name': 'ELMER Ab', 'place_id': 'ChIJ1z-t1K0BjUYR7jv576ERqeM', 'plus_code': {'compound_code': 'X69H+V6 Hangist, Finland', 'global_code': '9GF5X69H+V6'}, 'reference': 'ChIJ1z-t1K0BjUYR7jv576ERqeM', 'scope': 'GOOGLE', 'types': ['point_of_interest', 'establishment'], 'vicinity': 'Hangistintie 226, Tammisaari'}, {'business_status': 'OPERATIONAL', 'geometry': {'location': {'lat': 59.98428860000001, 'lng': 23.1961024}, 'viewport': {'northeast': {'lat': 59.98565778029151, 'lng': 23.1973778302915}, 'southwest': {'lat': 59.9829598197085, 'lng': 23.1946798697085}}}, 'icon': 'https://maps.gstatic.com/mapfiles/place_api/icons/generic_business-71.png', 'id': '78f49808efdaa376c86ab9a490c56be21b102f61', 'name': 'Sundberg Daniel John Antonius', 'place_id': 'ChIJq0NG-jIAjUYRxlniJ6r4w7Q', 'plus_code': {'compound_code': 'X5MW+PC Jordansby, Finland', 'global_code': '9GF5X5MW+PC'}, 'reference': 'ChIJq0NG-jIAjUYRxlniJ6r4w7Q', 'scope': 'GOOGLE', 'types': ['point_of_interest', 'establishment'], 'vicinity': 'Långstrandintie 64, Tammisaari'}, {'business_status': 'OPERATIONAL', 'geometry': {'location': {'lat': 59.97501949999999, 'lng': 23.2380345}, 'viewport': {'northeast': {'lat': 59.9763725802915, 'lng': 23.2393026302915}, 'southwest': {'lat': 59.9736746197085, 'lng': 23.23660466970849}}}, 'icon': 'https://maps.gstatic.com/mapfiles/place_api/icons/generic_business-71.png', 'id': '6195fd0ca730ee73414548ff4b705216e6dde58a', 'name': 'Metsäyhtymä Wiinamäki Erkki Krappe Tanja Komulainen Jari ja Veera', 'place_id': 'ChIJTxCeXVMAjUYRxwW6yVtfzTc', 'plus_code': {'compound_code': 'X6GQ+26 Hangist, Finland', 'global_code': '9GF5X6GQ+26'}, 'reference': 'ChIJTxCeXVMAjUYRxwW6yVtfzTc', 'scope': 'GOOGLE', 'types': ['point_of_interest', 'establishment'], 'vicinity': 'C, Hangistvägen 114, Ekenäs'}], 'status': 'OK'}\n",
      "{'html_attributions': [], 'results': [], 'status': 'ZERO_RESULTS'}\n",
      "{'html_attributions': [], 'results': [{'geometry': {'location': {'lat': 34.363184, 'lng': 107.237743}, 'viewport': {'northeast': {'lat': 34.4420198, 'lng': 107.2605515}, 'southwest': {'lat': 34.2915325, 'lng': 107.0524979}}}, 'icon': 'https://maps.gstatic.com/mapfiles/place_api/icons/geocode-71.png', 'id': 'c509b538cb8a8d6ef32057726677dabecf867e65', 'name': 'Baoji', 'photos': [{'height': 2736, 'html_attributions': ['<a href=\"https://maps.google.com/maps/contrib/117148199602544876966\">Shi-Ting Chu</a>'], 'photo_reference': 'CmRaAAAAleHA8mgKWhheXPVQdjvXV56cDMJM4XOPMdDW8tdEBYNn0JKU5m_y6VL2lFp_ZLkioF_56UsXkkguwzUgWm7CMUwGTEhHlOA5c8rGKbB5sg0KeSU9u5YGGJaTh4s3rENaEhC0R2tugzm81u6YzWjCkNPTGhSEy01tdYjZEYv7RxhyUn-3i7HHhg', 'width': 3648}], 'place_id': 'ChIJ6ZCbaAPdYDYRVyMhVjeyeOs', 'reference': 'ChIJ6ZCbaAPdYDYRVyMhVjeyeOs', 'scope': 'GOOGLE', 'types': ['locality', 'political'], 'vicinity': 'Baoji'}, {'geometry': {'location': {'lat': 34.64238100000001, 'lng': 107.132441}, 'viewport': {'northeast': {'lat': 34.9463837, 'lng': 107.3775692}, 'southwest': {'lat': 34.5610519, 'lng': 106.9475593}}}, 'icon': 'https://maps.gstatic.com/mapfiles/place_api/icons/geocode-71.png', 'id': 'e0dbf2537c8ec317d9dc89c0f305631bdd8fd7a2', 'name': 'Qianyang County', 'place_id': 'ChIJydb4hPXSYDYRpy6V8sccDpo', 'reference': 'ChIJydb4hPXSYDYRpy6V8sccDpo', 'scope': 'GOOGLE', 'types': ['sublocality_level_1', 'sublocality', 'political'], 'vicinity': 'Qianyang County'}], 'status': 'OK'}\n",
      "{'html_attributions': [], 'results': [], 'status': 'ZERO_RESULTS'}\n",
      "{'html_attributions': [], 'results': [], 'status': 'ZERO_RESULTS'}\n",
      "{'html_attributions': [], 'results': [], 'status': 'ZERO_RESULTS'}\n"
     ]
    }
   ],
   "source": [
    "hotels = []\n",
    "\n",
    "for index, row in hotel_df.iterrows():\n",
    "    try:\n",
    "        x = requests.get(f'https://maps.googleapis.com/maps/api/place/nearbysearch/json?location={row[\"Lng\"]},{row[\"Lat\"]}&radius=1500&type=hotel&key={g_key}').json()    \n",
    "        print (x)\n",
    "        hotels.append(x['results'][0][\"name\"])\n",
    "    except:\n",
    "        x = \"None\"\n",
    "        hotels.append(x)"
   ]
  },
  {
   "cell_type": "code",
   "execution_count": 58,
   "metadata": {},
   "outputs": [],
   "source": [
    "hotel_df['Hotel Name'] = hotels"
   ]
  },
  {
   "cell_type": "code",
   "execution_count": 65,
   "metadata": {
    "colab": {},
    "colab_type": "code",
    "id": "4cnVBDhKeTXg"
   },
   "outputs": [],
   "source": [
    "# Add marker layer ontop of heat map\n",
    "marker_info = []\n",
    "marker_loc = []\n",
    "\n",
    "\n",
    "for index, row in hotel_df.iterrows():\n",
    "    if row['Hotel Name'] == \"None\":\n",
    "        continue\n",
    "    marker_loc.append((row['Lng'], row['Lat']))\n",
    "    marker_info.append(f\"\"\"<dl>\n",
    "<dt>Name</dt><dd>\"\"\" + row['Hotel Name'] + \"\"\"</dd>\n",
    "<dt>City</dt><dd>\"\"\" + row['City'] + \"\"\"</dd>\n",
    "<dt>Country</dt><dd>\"\"\" + row['Country'] + \"\"\"</dd>\n",
    "</dl>\"\"\")"
   ]
  },
  {
   "cell_type": "code",
   "execution_count": 66,
   "metadata": {},
   "outputs": [
    {
     "data": {
      "text/plain": [
       "['<dl>\\n<dt>Name</dt><dd>Petropavlovka</dd>\\n<dt>City</dt><dd>kirgiz-miyaki</dd>\\n<dt>Country</dt><dd>ru</dd>\\n</dl>',\n",
       " '<dl>\\n<dt>Name</dt><dd>Case Toclla</dd>\\n<dt>City</dt><dd>huaraz</dd>\\n<dt>Country</dt><dd>pe</dd>\\n</dl>',\n",
       " '<dl>\\n<dt>Name</dt><dd>Yermekeyevo</dd>\\n<dt>City</dt><dd>yermekeyevo</dd>\\n<dt>Country</dt><dd>ru</dd>\\n</dl>',\n",
       " '<dl>\\n<dt>Name</dt><dd>Albion</dd>\\n<dt>City</dt><dd>mount isa</dd>\\n<dt>Country</dt><dd>au</dd>\\n</dl>',\n",
       " '<dl>\\n<dt>Name</dt><dd>Sterkstroom</dd>\\n<dt>City</dt><dd>molteno</dd>\\n<dt>Country</dt><dd>za</dd>\\n</dl>',\n",
       " '<dl>\\n<dt>Name</dt><dd>Tsambagarav Uul</dd>\\n<dt>City</dt><dd>ulaangom</dd>\\n<dt>Country</dt><dd>mn</dd>\\n</dl>',\n",
       " '<dl>\\n<dt>Name</dt><dd>Dezhou</dd>\\n<dt>City</dt><dd>changqing</dd>\\n<dt>Country</dt><dd>cn</dd>\\n</dl>',\n",
       " '<dl>\\n<dt>Name</dt><dd>Hale</dd>\\n<dt>City</dt><dd>alice springs</dd>\\n<dt>Country</dt><dd>au</dd>\\n</dl>',\n",
       " '<dl>\\n<dt>Name</dt><dd>Little Sandy Desert</dd>\\n<dt>City</dt><dd>port hedland</dd>\\n<dt>Country</dt><dd>au</dd>\\n</dl>',\n",
       " '<dl>\\n<dt>Name</dt><dd>Hangist</dd>\\n<dt>City</dt><dd>tammisaari</dd>\\n<dt>Country</dt><dd>fi</dd>\\n</dl>',\n",
       " '<dl>\\n<dt>Name</dt><dd>Baoji</dd>\\n<dt>City</dt><dd>guozhen</dd>\\n<dt>Country</dt><dd>cn</dd>\\n</dl>']"
      ]
     },
     "execution_count": 66,
     "metadata": {},
     "output_type": "execute_result"
    }
   ],
   "source": [
    "marker_info"
   ]
  },
  {
   "cell_type": "code",
   "execution_count": 67,
   "metadata": {
    "colab": {},
    "colab_type": "code",
    "id": "Jc1d5-JNeTXn"
   },
   "outputs": [
    {
     "data": {
      "application/vnd.jupyter.widget-view+json": {
       "model_id": "0e75973210a142389026122c6bd8287a",
       "version_major": 2,
       "version_minor": 0
      },
      "text/plain": [
       "Figure(layout=FigureLayout(height='420px'))"
      ]
     },
     "metadata": {},
     "output_type": "display_data"
    }
   ],
   "source": [
    "fig = gmaps.figure()\n",
    "markers = gmaps.marker_layer(marker_loc, info_box_content=marker_info)\n",
    "fig.add_layer(markers)\n",
    "fig"
   ]
  },
  {
   "cell_type": "code",
   "execution_count": 68,
   "metadata": {},
   "outputs": [],
   "source": [
    "from ipywidgets.embed import embed_minimal_html\n",
    "embed_minimal_html('expor_new.html', views=[fig])"
   ]
  }
 ],
 "metadata": {
  "colab": {
   "collapsed_sections": [],
   "name": "Copy of VacationPy.ipynb",
   "provenance": []
  },
  "kernelspec": {
   "display_name": "Python [conda env:root]",
   "language": "python",
   "name": "conda-root-py"
  },
  "language_info": {
   "codemirror_mode": {
    "name": "ipython",
    "version": 3
   },
   "file_extension": ".py",
   "mimetype": "text/x-python",
   "name": "python",
   "nbconvert_exporter": "python",
   "pygments_lexer": "ipython3",
   "version": "3.7.6"
  },
  "latex_envs": {
   "LaTeX_envs_menu_present": true,
   "autoclose": false,
   "autocomplete": true,
   "bibliofile": "biblio.bib",
   "cite_by": "apalike",
   "current_citInitial": 1,
   "eqLabelWithNumbers": true,
   "eqNumInitial": 1,
   "hotkeys": {
    "equation": "Ctrl-E",
    "itemize": "Ctrl-I"
   },
   "labels_anchors": false,
   "latex_user_defs": false,
   "report_style_numbering": false,
   "user_envs_cfg": false
  }
 },
 "nbformat": 4,
 "nbformat_minor": 1
}
